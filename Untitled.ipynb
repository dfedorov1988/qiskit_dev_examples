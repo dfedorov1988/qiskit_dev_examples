{
 "cells": [
  {
   "cell_type": "code",
   "execution_count": null,
   "metadata": {},
   "outputs": [],
   "source": [
    "import time\n",
    "import numpy as np\n",
    "import logging\n",
    "from qiskit.circuit.library import EfficientSU2\n",
    "from qiskit import Aer\n",
    "# from qiskit.validation.base import BaseModel, BaseSchema, ObjSchema, bind_schema, Obj\n",
    "from qiskit.aqua import QuantumInstance\n",
    "# from qiskit.aqua.operators import Z2Symmetries, WeightedPauliOperator\n",
    "from qiskit.aqua.algorithms import VQE, NumPyMinimumEigensolver\n",
    "from qiskit.aqua.components.optimizers import COBYLA, SLSQP, L_BFGS_B\n",
    "from qiskit.chemistry.fermionic_operator import FermionicOperator\n",
    "from qiskit.chemistry.drivers import PySCFDriver, UnitsType\n",
    "from qiskit.chemistry.core import Hamiltonian, TransformationType, QubitMappingType\n",
    "from qiskit.chemistry.components.variational_forms import UCCSD\n",
    "from qiskit.chemistry.components.initial_states import HartreeFock\n",
    "import warnings\n",
    "from qiskit.providers.aer import StatevectorSimulator, AerProvider\n",
    "warnings.filterwarnings(\"ignore\", category=DeprecationWarning) \n",
    "# logging.basicConfig(level=logging.CRITICAL)\n",
    "import matplotlib.pyplot as plt"
   ]
  },
  {
   "cell_type": "code",
   "execution_count": 2,
   "metadata": {},
   "outputs": [],
   "source": [
    "def convert_t2_exc_indices_to_occ_virt_ind(inds, nelec, norb):\n",
    "    # converts indices of double block excitations alpha, beta\n",
    "    # to indices as occ, occ, virt, virt\n",
    "    \n",
    "    conv_inds = np.zeros((4), dtype=int)\n",
    "    nocc = int(nelec/2)\n",
    "#     print(\"inds =\", inds)\n",
    "    conv_list = list()\n",
    "    for n in range(4):\n",
    "        if inds[n] < nocc:\n",
    "            conv_inds[n] = int(inds[n])\n",
    "\n",
    "        if nocc <= inds[n] < norb:\n",
    "            conv_inds[n] = int(inds[n] - nocc)\n",
    "        \n",
    "        if norb <= inds[n] < norb + nocc:\n",
    "            conv_inds[n] = int(inds[n] - norb)\n",
    "        \n",
    "        if norb + nocc <= inds[n] < 2*norb:\n",
    "            conv_inds[n] = int(inds[n] - norb - nocc)\n",
    "        conv_list.append(conv_inds[n]) \n",
    "    \n",
    "#     print(\"converted inds\", conv_list)\n",
    "    \n",
    "    return list(conv_list)"
   ]
  },
  {
   "cell_type": "code",
   "execution_count": 3,
   "metadata": {},
   "outputs": [
    {
     "name": "stdout",
     "output_type": "stream",
     "text": [
      "4\n",
      "6\n"
     ]
    }
   ],
   "source": [
    "def get_qubit_op_and_dipole(basis, atom, charge):\n",
    "    \n",
    "    driver = PySCFDriver(atom=atom, unit=UnitsType.ANGSTROM,\n",
    "                         charge=charge, spin=0, basis=basis)\n",
    "    molecule = driver.run()\n",
    "    core = Hamiltonian(transformation=TransformationType.FULL, qubit_mapping=QubitMappingType.JORDAN_WIGNER,\n",
    "                       two_qubit_reduction=False, freeze_core=False)\n",
    "    qubit_op, aux_ops = core.run(molecule)\n",
    "    dipole_ops = aux_ops[-3:]\n",
    "    \n",
    "    return qubit_op, dipole_ops, core, molecule\n",
    "\n",
    "r = 1.5\n",
    "basis = 'sto-3g'\n",
    "atom='Be 0 0 0; H 0 0 {}'.format(r)\n",
    "charge = 1\n",
    "\n",
    "qubit_op, dipole_ops, core, molecule = get_qubit_op_and_dipole(basis, atom, charge)\n",
    "\n",
    "nelec = molecule.num_alpha + molecule.num_beta\n",
    "h1 = molecule.one_body_integrals\n",
    "h2 = molecule.two_body_integrals\n",
    "e_nr = molecule.nuclear_repulsion_energy\n",
    "norb = molecule.num_orbitals\n",
    "print(nelec)\n",
    "print(norb)"
   ]
  },
  {
   "cell_type": "code",
   "execution_count": 4,
   "metadata": {},
   "outputs": [],
   "source": [
    "init_state = HartreeFock(num_orbitals=core._molecule_info['num_orbitals'],\n",
    "                    qubit_mapping=core._qubit_mapping, two_qubit_reduction=core._two_qubit_reduction,\n",
    "                    num_particles=core._molecule_info['num_particles'])"
   ]
  },
  {
   "cell_type": "code",
   "execution_count": 5,
   "metadata": {},
   "outputs": [],
   "source": [
    "var_form = UCCSD(num_orbitals=core._molecule_info['num_orbitals'],\n",
    "                   num_particles=core._molecule_info['num_particles'],\n",
    "                   active_occupied=None, active_unoccupied=None, initial_state=init_state,\n",
    "                   qubit_mapping=core._qubit_mapping, two_qubit_reduction=core._two_qubit_reduction,\n",
    "                   num_time_slices=1)\n"
   ]
  },
  {
   "cell_type": "code",
   "execution_count": 6,
   "metadata": {},
   "outputs": [
    {
     "name": "stdout",
     "output_type": "stream",
     "text": [
      "Number of filtered t1 excitations: 8 \n",
      "previously 16\n"
     ]
    }
   ],
   "source": [
    "t1_thresh = 1e-04\n",
    "filtered_t1 = []\n",
    "for t1 in var_form._single_excitations:\n",
    "#     print(t1)\n",
    "    if np.abs(h1[t1[0], t1[1]]) > t1_thresh:\n",
    "        filtered_t1.append(t1)\n",
    "print(\"Number of filtered t1 excitations:\", len(filtered_t1), \"\\npreviously\", len(var_form._single_excitations))"
   ]
  },
  {
   "cell_type": "code",
   "execution_count": 7,
   "metadata": {},
   "outputs": [
    {
     "name": "stdout",
     "output_type": "stream",
     "text": [
      "Number of t2 excitations filtered by 2e screening: 26\n",
      "[[0, 2, 6, 8], [0, 2, 6, 11], [0, 2, 7, 8], [0, 2, 7, 11], [0, 3, 6, 9], [0, 3, 7, 9], [0, 4, 6, 10], [0, 4, 7, 10], [0, 5, 6, 8], [0, 5, 6, 11], [0, 5, 7, 8], [0, 5, 7, 11], [1, 2, 6, 8], [1, 2, 6, 11], [1, 2, 7, 8], [1, 2, 7, 11], [1, 3, 6, 9], [1, 3, 7, 9], [1, 4, 6, 10], [1, 4, 7, 10], [1, 5, 6, 8], [1, 5, 6, 11], [1, 5, 7, 8], [1, 5, 7, 11], [0, 2, 1, 5], [6, 8, 7, 11]]\n"
     ]
    }
   ],
   "source": [
    "t2_thresh = 1e-6\n",
    "# filtering amplitudes without looking at determinants\n",
    "filtered_t2 = []\n",
    "for t2 in var_form._double_excitations:\n",
    "#     print(t2, h2[t2[3], t2[1], t2[0], t2[2]])\n",
    "    conv_t2 = convert_t2_exc_indices_to_occ_virt_ind([t2[0], t2[2], t2[1], t2[3]], nelec, norb)\n",
    "    if np.abs(h2[t2[3], t2[1], t2[0], t2[2]]) > t2_thresh:\n",
    "#         print(t2[0], t2[1], t2[2], t2[3])\n",
    "        if [t2[2], t2[3], t2[0], t2[1]] in filtered_t2:\n",
    "            print(\"FLIP\")\n",
    "            pass\n",
    "        else:\n",
    "#             print(t2, h2[t2[3], t2[1], t2[0], t2[2]])\n",
    "            filtered_t2.append(t2)\n",
    "print(\"Number of t2 excitations filtered by 2e screening:\", len(filtered_t2))\n",
    "print(filtered_t2)"
   ]
  },
  {
   "cell_type": "code",
   "execution_count": 8,
   "metadata": {},
   "outputs": [],
   "source": [
    "# throwing away small doubles\n",
    "var_form_red = UCCSD(num_orbitals=core._molecule_info['num_orbitals'],\n",
    "                   num_particles=core._molecule_info['num_particles'],\n",
    "                   active_occupied=None, active_unoccupied=None, initial_state=init_state,\n",
    "                   qubit_mapping=core._qubit_mapping, two_qubit_reduction=core._two_qubit_reduction,\n",
    "                   num_time_slices=1, single_exc_op_list=filtered_t1, double_exc_op_list=filtered_t2)\n"
   ]
  },
  {
   "cell_type": "code",
   "execution_count": 9,
   "metadata": {},
   "outputs": [
    {
     "name": "stdout",
     "output_type": "stream",
     "text": [
      "[[0, 2], [0, 5], [1, 2], [1, 5], [6, 8], [6, 11], [7, 8], [7, 11]]\n",
      "[[0, 2, 6, 8], [0, 2, 6, 11], [0, 2, 7, 8], [0, 2, 7, 11], [0, 3, 6, 9], [0, 3, 7, 9], [0, 4, 6, 10], [0, 4, 7, 10], [0, 5, 6, 8], [0, 5, 6, 11], [0, 5, 7, 8], [0, 5, 7, 11], [1, 2, 6, 8], [1, 2, 6, 11], [1, 2, 7, 8], [1, 2, 7, 11], [1, 3, 6, 9], [1, 3, 7, 9], [1, 4, 6, 10], [1, 4, 7, 10], [1, 5, 6, 8], [1, 5, 6, 11], [1, 5, 7, 8], [1, 5, 7, 11], [0, 2, 1, 5], [6, 8, 7, 11]]\n"
     ]
    }
   ],
   "source": [
    "print(var_form_red._single_excitations)\n",
    "print(var_form_red._double_excitations)"
   ]
  },
  {
   "cell_type": "code",
   "execution_count": null,
   "metadata": {
    "scrolled": true
   },
   "outputs": [
    {
     "name": "stdout",
     "output_type": "stream",
     "text": [
      "\n",
      "r =  0.9\n",
      "FCI energy -12.48662311079173\n",
      "UCCSD energy -14.554798820603544\n",
      "Dipole moment 2.9812766823499075\n",
      "\n",
      "r =  0.9734693877551021\n",
      "FCI energy -12.71026230623487\n",
      "UCCSD energy -14.603860414872347\n",
      "Dipole moment 3.0738303659571473\n",
      "\n",
      "r =  1.0469387755102042\n",
      "FCI energy -12.894399716209062\n",
      "UCCSD energy -14.63794766749924\n",
      "Dipole moment 3.1609674685033218\n",
      "\n",
      "r =  1.1204081632653062\n",
      "FCI energy -13.047596294221915\n",
      "UCCSD energy -14.660751973277483\n",
      "Dipole moment 3.242783282096532\n",
      "\n",
      "r =  1.1938775510204083\n",
      "FCI energy -13.176251939165113\n",
      "UCCSD energy -14.675018754370948\n",
      "Dipole moment 3.317203545613585\n",
      "\n",
      "r =  1.2673469387755103\n",
      "FCI energy -13.285235665052642\n",
      "UCCSD energy -14.68282417510783\n",
      "Dipole moment 3.3882667357923912\n",
      "\n",
      "r =  1.3408163265306123\n",
      "FCI energy -13.378307155277394\n",
      "UCCSD energy -14.685766982253238\n",
      "Dipole moment 3.4533316174285233\n",
      "\n",
      "r =  1.4142857142857144\n",
      "FCI energy -13.458407968732395\n",
      "UCCSD energy -14.685089195150221\n",
      "Dipole moment 3.515649871542806\n",
      "\n",
      "r =  1.4877551020408164\n",
      "FCI energy -13.527869372301645\n",
      "UCCSD energy -14.681761358387147\n",
      "Dipole moment 3.5660594989819763\n",
      "\n",
      "r =  1.5612244897959184\n",
      "FCI energy -13.588564225320166\n",
      "UCCSD energy -14.676540887630342\n",
      "Dipole moment 3.6169070852175067\n",
      "\n",
      "r =  1.6346938775510205\n",
      "FCI energy -13.64201936441276\n",
      "UCCSD energy -14.670029002006693\n",
      "Dipole moment 3.660737082540183\n",
      "\n",
      "r =  1.7081632653061225\n",
      "FCI energy -13.689499184302594\n",
      "UCCSD energy -14.662695775592919\n",
      "Dipole moment 3.7020410467371883\n",
      "\n",
      "r =  1.7816326530612248\n",
      "FCI energy -13.732067784125341\n",
      "UCCSD energy -14.654911626981201\n",
      "Dipole moment 3.7356842536861707\n",
      "\n",
      "r =  1.8551020408163268\n",
      "FCI energy -13.770634467362388\n",
      "UCCSD energy -14.646957256971447\n",
      "Dipole moment 3.779695444078684\n",
      "\n",
      "r =  1.9285714285714288\n",
      "FCI energy -13.805984865961769\n",
      "UCCSD energy -14.639055460597588\n",
      "Dipole moment 3.8248147982450353\n",
      "\n",
      "r =  2.002040816326531\n",
      "FCI energy -13.838797626960623\n",
      "UCCSD energy -14.63137133812235\n",
      "Dipole moment 3.8676259019970995\n",
      "\n",
      "r =  2.075510204081633\n",
      "FCI energy -13.869645615390297\n",
      "UCCSD energy -14.624020270215258\n",
      "Dipole moment 3.932137428036266\n",
      "\n",
      "r =  2.148979591836735\n",
      "FCI energy -13.898983327057502\n",
      "UCCSD energy -14.617089622895687\n",
      "Dipole moment 4.001890144631226\n",
      "\n",
      "r =  2.222448979591837\n",
      "FCI energy -13.927130049100361\n",
      "UCCSD energy -14.610636819139982\n",
      "Dipole moment 4.081170799127667\n",
      "\n",
      "r =  2.295918367346939\n",
      "FCI energy -13.954266028876233\n",
      "UCCSD energy -14.604694474675133\n",
      "Dipole moment 4.173615759123683\n",
      "\n",
      "r =  2.369387755102041\n",
      "FCI energy -13.980454813047455\n",
      "UCCSD energy -14.599277556054204\n",
      "Dipole moment 4.2792324294778314\n",
      "\n",
      "r =  2.442857142857143\n",
      "FCI energy -14.005686977147917\n",
      "UCCSD energy -14.594390224264734\n",
      "Dipole moment 4.396005538430021\n",
      "\n",
      "r =  2.516326530612245\n",
      "FCI energy -14.029926015674622\n",
      "UCCSD energy -14.590022957608255\n",
      "Dipole moment 4.5233985664869785\n",
      "\n",
      "r =  2.589795918367347\n",
      "FCI energy -14.053140231759103\n",
      "UCCSD energy -14.586154367371098\n",
      "Dipole moment 4.657958687216976\n",
      "\n",
      "r =  2.663265306122449\n",
      "FCI energy -14.075317179793284\n",
      "UCCSD energy -14.582761071317446\n",
      "Dipole moment 4.801245656275987\n",
      "\n",
      "r =  2.736734693877551\n",
      "FCI energy -14.096465796698082\n",
      "UCCSD energy -14.579810242938605\n",
      "Dipole moment 4.9506577138523795\n",
      "\n",
      "r =  2.8102040816326532\n",
      "FCI energy -14.116612652919782\n",
      "UCCSD energy -14.577266694130241\n",
      "Dipole moment 5.103656816153755\n",
      "\n",
      "r =  2.8836734693877553\n",
      "FCI energy -14.13579662073648\n",
      "UCCSD energy -14.575092116878762\n",
      "Dipole moment 5.260027749435731\n",
      "\n",
      "r =  2.9571428571428573\n"
     ]
    }
   ],
   "source": [
    "results = []\n",
    "energies_fci = []\n",
    "energies_uccsd = []\n",
    "dipoles = []\n",
    "initial_point = None\n",
    "distances = np.linspace(0.9, 4.5, num=50)\n",
    "\n",
    "for r in distances:\n",
    "    t1 = time.time()\n",
    "    print(\"\\nr = \", r)\n",
    "    atom = 'Be 0 0 0; H 0 0 {}'.format(r)\n",
    "    charge = 1\n",
    "    \n",
    "    qubit_op, dipole_ops, core, molecule = get_qubit_op_and_dipole(basis, atom, charge)\n",
    "\n",
    "    h1 = molecule.one_body_integrals\n",
    "    h2 = molecule.two_body_integrals\n",
    "    e_nr = molecule.nuclear_repulsion_energy\n",
    "    \n",
    "    # Solving exactly\n",
    "    ee = NumPyMinimumEigensolver(qubit_op)\n",
    "    result = core.process_algorithm_result(ee.run())\n",
    "    exact_e = result['computed_electronic_energy'] + e_nr\n",
    "    \n",
    "    # VQE\n",
    "    optimizer = SLSQP()\n",
    "    vqe = VQE(qubit_op, var_form=var_form_red, initial_point=initial_point, optimizer=optimizer,\n",
    "              aux_operators=dipole_ops[-1]) # Z-axis dipole\n",
    "    backend = StatevectorSimulator(provider=AerProvider())\n",
    "    quantum_instance = QuantumInstance(backend=backend)\n",
    "    ret = vqe.run(quantum_instance)\n",
    "    initial_point = ret['optimal_point']\n",
    "    \n",
    "    # Results\n",
    "    print(\"FCI energy\", exact_e)\n",
    "    print('UCCSD energy', ret['optimal_value'] + e_nr)\n",
    "    print(\"Dipole moment\", ret['aux_operator_eigenvalues'])\n",
    "    dipoles.append(ret['aux_operator_eigenvalues'])\n",
    "    results.append(ret)\n",
    "    energies_fci.append(exact_e)\n",
    "    energies_uccsd.append(ret['optimal_value'] + e_nr)\n",
    "    t2 = time.time()\n",
    "    total_time = t2 - t1\n",
    "    print(\"Time taken\", total_time)"
   ]
  },
  {
   "cell_type": "code",
   "execution_count": null,
   "metadata": {},
   "outputs": [],
   "source": []
  },
  {
   "cell_type": "code",
   "execution_count": 11,
   "metadata": {},
   "outputs": [
    {
     "data": {
      "text/plain": [
       "[<matplotlib.lines.Line2D at 0x7f9e5d9807d0>]"
      ]
     },
     "execution_count": 11,
     "metadata": {},
     "output_type": "execute_result"
    },
    {
     "data": {
      "image/png": "[encoded data removed]",
      "text/plain": [
       "<Figure size 432x288 with 1 Axes>"
      ]
     },
     "metadata": {
      "needs_background": "light"
     },
     "output_type": "display_data"
    }
   ],
   "source": [
    "plt.plot(distances, energies_uccsd)"
   ]
  },
  {
   "cell_type": "code",
   "execution_count": 12,
   "metadata": {},
   "outputs": [
    {
     "name": "stdout",
     "output_type": "stream",
     "text": [
      "5.506214250611411\n"
     ]
    }
   ],
   "source": [
    "print(ret.aux_operator_eigenvalues)"
   ]
  },
  {
   "cell_type": "code",
   "execution_count": null,
   "metadata": {},
   "outputs": [],
   "source": []
  }
 ],
 "metadata": {
  "kernelspec": {
   "display_name": "qiskit_dev",
   "language": "python",
   "name": "qiskit_dev"
  },
  "language_info": {
   "codemirror_mode": {
    "name": "ipython",
    "version": 3
   },
   "file_extension": ".py",
   "mimetype": "text/x-python",
   "name": "python",
   "nbconvert_exporter": "python",
   "pygments_lexer": "ipython3",
   "version": "3.7.4"
  }
 },
 "nbformat": 4,
 "nbformat_minor": 4
}
